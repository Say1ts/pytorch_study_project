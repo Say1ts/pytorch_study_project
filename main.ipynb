{
 "cells": [
  {
   "cell_type": "code",
   "execution_count": 1,
   "metadata": {},
   "outputs": [],
   "source": [
    "import pandas as pd\n",
    "from sklearn.datasets import load_iris\n",
    "from sklearn.preprocessing import StandardScaler\n",
    "from sklearn.model_selection import train_test_split\n",
    "from sklearn.metrics import precision_score, recall_score, \\\n",
    "f1_score, log_loss, classification_report, roc_curve, auc, roc_auc_score\n",
    "import seaborn as sns\n",
    "import matplotlib.pyplot as plt"
   ]
  },
  {
   "cell_type": "markdown",
   "metadata": {},
   "source": [
    "# Загрузка и предобработка данных"
   ]
  },
  {
   "cell_type": "code",
   "execution_count": 2,
   "metadata": {},
   "outputs": [],
   "source": [
    "df = pd.DataFrame(data=load_iris()['data'],\n",
    "                  columns=load_iris()['feature_names'])\n",
    "\n",
    "df['target'] = load_iris()['target']\n",
    "df = df[df.target != 2]\n",
    "target_names = load_iris()['target_names'][:2]"
   ]
  },
  {
   "cell_type": "code",
   "execution_count": 3,
   "metadata": {},
   "outputs": [
    {
     "data": {
      "text/html": [
       "<div>\n",
       "<style scoped>\n",
       "    .dataframe tbody tr th:only-of-type {\n",
       "        vertical-align: middle;\n",
       "    }\n",
       "\n",
       "    .dataframe tbody tr th {\n",
       "        vertical-align: top;\n",
       "    }\n",
       "\n",
       "    .dataframe thead th {\n",
       "        text-align: right;\n",
       "    }\n",
       "</style>\n",
       "<table border=\"1\" class=\"dataframe\">\n",
       "  <thead>\n",
       "    <tr style=\"text-align: right;\">\n",
       "      <th></th>\n",
       "      <th>sepal length (cm)</th>\n",
       "      <th>sepal width (cm)</th>\n",
       "      <th>petal length (cm)</th>\n",
       "      <th>petal width (cm)</th>\n",
       "      <th>target</th>\n",
       "    </tr>\n",
       "  </thead>\n",
       "  <tbody>\n",
       "    <tr>\n",
       "      <th>0</th>\n",
       "      <td>5.1</td>\n",
       "      <td>3.5</td>\n",
       "      <td>1.4</td>\n",
       "      <td>0.2</td>\n",
       "      <td>0</td>\n",
       "    </tr>\n",
       "    <tr>\n",
       "      <th>1</th>\n",
       "      <td>4.9</td>\n",
       "      <td>3.0</td>\n",
       "      <td>1.4</td>\n",
       "      <td>0.2</td>\n",
       "      <td>0</td>\n",
       "    </tr>\n",
       "    <tr>\n",
       "      <th>2</th>\n",
       "      <td>4.7</td>\n",
       "      <td>3.2</td>\n",
       "      <td>1.3</td>\n",
       "      <td>0.2</td>\n",
       "      <td>0</td>\n",
       "    </tr>\n",
       "    <tr>\n",
       "      <th>3</th>\n",
       "      <td>4.6</td>\n",
       "      <td>3.1</td>\n",
       "      <td>1.5</td>\n",
       "      <td>0.2</td>\n",
       "      <td>0</td>\n",
       "    </tr>\n",
       "    <tr>\n",
       "      <th>4</th>\n",
       "      <td>5.0</td>\n",
       "      <td>3.6</td>\n",
       "      <td>1.4</td>\n",
       "      <td>0.2</td>\n",
       "      <td>0</td>\n",
       "    </tr>\n",
       "    <tr>\n",
       "      <th>...</th>\n",
       "      <td>...</td>\n",
       "      <td>...</td>\n",
       "      <td>...</td>\n",
       "      <td>...</td>\n",
       "      <td>...</td>\n",
       "    </tr>\n",
       "    <tr>\n",
       "      <th>95</th>\n",
       "      <td>5.7</td>\n",
       "      <td>3.0</td>\n",
       "      <td>4.2</td>\n",
       "      <td>1.2</td>\n",
       "      <td>1</td>\n",
       "    </tr>\n",
       "    <tr>\n",
       "      <th>96</th>\n",
       "      <td>5.7</td>\n",
       "      <td>2.9</td>\n",
       "      <td>4.2</td>\n",
       "      <td>1.3</td>\n",
       "      <td>1</td>\n",
       "    </tr>\n",
       "    <tr>\n",
       "      <th>97</th>\n",
       "      <td>6.2</td>\n",
       "      <td>2.9</td>\n",
       "      <td>4.3</td>\n",
       "      <td>1.3</td>\n",
       "      <td>1</td>\n",
       "    </tr>\n",
       "    <tr>\n",
       "      <th>98</th>\n",
       "      <td>5.1</td>\n",
       "      <td>2.5</td>\n",
       "      <td>3.0</td>\n",
       "      <td>1.1</td>\n",
       "      <td>1</td>\n",
       "    </tr>\n",
       "    <tr>\n",
       "      <th>99</th>\n",
       "      <td>5.7</td>\n",
       "      <td>2.8</td>\n",
       "      <td>4.1</td>\n",
       "      <td>1.3</td>\n",
       "      <td>1</td>\n",
       "    </tr>\n",
       "  </tbody>\n",
       "</table>\n",
       "<p>100 rows × 5 columns</p>\n",
       "</div>"
      ],
      "text/plain": [
       "    sepal length (cm)  sepal width (cm)  petal length (cm)  petal width (cm)  \\\n",
       "0                 5.1               3.5                1.4               0.2   \n",
       "1                 4.9               3.0                1.4               0.2   \n",
       "2                 4.7               3.2                1.3               0.2   \n",
       "3                 4.6               3.1                1.5               0.2   \n",
       "4                 5.0               3.6                1.4               0.2   \n",
       "..                ...               ...                ...               ...   \n",
       "95                5.7               3.0                4.2               1.2   \n",
       "96                5.7               2.9                4.2               1.3   \n",
       "97                6.2               2.9                4.3               1.3   \n",
       "98                5.1               2.5                3.0               1.1   \n",
       "99                5.7               2.8                4.1               1.3   \n",
       "\n",
       "    target  \n",
       "0        0  \n",
       "1        0  \n",
       "2        0  \n",
       "3        0  \n",
       "4        0  \n",
       "..     ...  \n",
       "95       1  \n",
       "96       1  \n",
       "97       1  \n",
       "98       1  \n",
       "99       1  \n",
       "\n",
       "[100 rows x 5 columns]"
      ]
     },
     "execution_count": 3,
     "metadata": {},
     "output_type": "execute_result"
    }
   ],
   "source": [
    "df"
   ]
  },
  {
   "cell_type": "code",
   "execution_count": 4,
   "metadata": {},
   "outputs": [],
   "source": [
    "sc = StandardScaler()\n",
    "\n",
    "X = df.iloc[:, :-1]\n",
    "y = df.target\n",
    "\n",
    "X_train, X_test, y_train, y_test = train_test_split(\n",
    "    X, y, test_size=0.25, stratify=y, shuffle=True, random_state=10)"
   ]
  },
  {
   "cell_type": "code",
   "execution_count": 5,
   "metadata": {},
   "outputs": [],
   "source": [
    "X_train_std = sc.fit_transform(X_train)\n",
    "X_test_std = sc.fit_transform(X_test)"
   ]
  },
  {
   "cell_type": "code",
   "execution_count": 6,
   "metadata": {},
   "outputs": [
    {
     "data": {
      "image/png": "[encoded data removed]",
      "text/plain": [
       "<Figure size 432x288 with 1 Axes>"
      ]
     },
     "metadata": {
      "needs_background": "light"
     },
     "output_type": "display_data"
    }
   ],
   "source": [
    "colors = ['navy', 'turquoise']\n",
    "\n",
    "for color, i, target_name in zip(colors, [0, 1], target_names):\n",
    "    plt.scatter(X_train_std[y_train == i, 0],\n",
    "                X_train_std[y_train == i, 1],\n",
    "                color=color,\n",
    "                alpha=.8,\n",
    "                lw=2,\n",
    "                label=target_name)\n",
    "plt.xlabel('sepal length (cm)')\n",
    "plt.ylabel('sepal width (cm)')\n",
    "plt.legend()\n",
    "plt.show()"
   ]
  },
  {
   "cell_type": "markdown",
   "metadata": {},
   "source": [
    "# Моделирование"
   ]
  },
  {
   "cell_type": "markdown",
   "metadata": {},
   "source": [
    "## Sigmoid"
   ]
  },
  {
   "cell_type": "code",
   "execution_count": 7,
   "metadata": {},
   "outputs": [],
   "source": [
    "import torch\n",
    "import torch.nn as nn\n",
    "import torch.nn.functional as F"
   ]
  },
  {
   "cell_type": "code",
   "execution_count": 8,
   "metadata": {},
   "outputs": [],
   "source": [
    "X_train = torch.FloatTensor(X_train_std)\n",
    "X_test = torch.FloatTensor(X_test_std)\n",
    "y_train = torch.LongTensor(y_train.values)\n",
    "y_test = torch.LongTensor(y_test.values)"
   ]
  },
  {
   "cell_type": "code",
   "execution_count": 9,
   "metadata": {
    "scrolled": true
   },
   "outputs": [
    {
     "data": {
      "text/plain": [
       "array([[ 0.77946848, -0.43030192,  1.12522489,  1.2509701 ],\n",
       "       [-0.90393858, -0.01117667, -0.93311332, -1.02883522],\n",
       "       [-0.75090157,  1.03663643, -1.0017246 , -1.02883522],\n",
       "       [-0.13875355,  0.61751119, -0.79589078, -1.02883522],\n",
       "       [ 0.32035747, -1.05898978,  0.43911215,  0.3741219 ],\n",
       "       [ 2.00376453, -0.63986454,  1.33105871,  1.07560046],\n",
       "       [ 1.85072752, -0.01117667,  1.26244744,  1.2509701 ],\n",
       "       [ 0.16732046, -0.22073929,  1.12522489,  1.2509701 ],\n",
       "       [ 1.08554249, -0.43030192,  0.98800234,  0.90023082],\n",
       "       [-0.75090157,  0.61751119, -0.93311332, -1.02883522],\n",
       "       [ 0.32035747,  1.45576168, -0.79589078, -0.85346558],\n",
       "       [ 1.69769052, -0.22073929,  1.05661362,  1.07560046],\n",
       "       [ 0.16732046, -0.22073929,  0.8507798 ,  0.90023082],\n",
       "       [-0.75090157, -2.31636551,  0.43911215,  0.3741219 ],\n",
       "       [-1.3630496 , -0.01117667, -0.93311332, -1.02883522],\n",
       "       [ 0.77946848, -0.84942716,  1.53689254,  1.42633974],\n",
       "       [-0.75090157,  0.82707381, -0.86450205, -0.32735666],\n",
       "       [ 2.15680153, -0.01117667,  1.39966999,  1.2509701 ],\n",
       "       [ 0.01428345,  2.29401216, -1.0017246 , -1.02883522],\n",
       "       [-0.44482756,  2.08444954, -0.93311332, -1.20420486],\n",
       "       [-1.66912361, -0.22073929, -1.07033587, -1.02883522],\n",
       "       [-1.05697559,  0.61751119, -0.86450205, -1.02883522],\n",
       "       [ 0.32035747, -0.43030192,  0.91939107,  0.90023082],\n",
       "       [ 0.01428345, -1.68767764,  0.78216852,  0.90023082],\n",
       "       [ 0.47339447, -1.05898978,  0.78216852,  0.72486118],\n",
       "       [-1.5160866 , -1.68767764, -1.07033587, -0.85346558],\n",
       "       [ 2.30983854,  0.19838595,  1.26244744,  1.07560046],\n",
       "       [ 1.2385795 ,  0.40794857,  1.26244744,  1.42633974],\n",
       "       [ 0.01428345, -1.2685524 ,  0.78216852,  0.90023082],\n",
       "       [ 0.32035747, -0.22073929,  0.91939107,  0.72486118],\n",
       "       [-1.82216061, -0.22073929, -1.20755842, -1.20420486],\n",
       "       [ 1.85072752, -0.22073929,  1.46828126,  1.60170938],\n",
       "       [ 0.77946848, -1.89724027,  0.78216852,  0.3741219 ],\n",
       "       [-0.59786457,  1.24619906, -0.93311332, -0.67809594],\n",
       "       [-0.13875355,  0.61751119, -0.93311332, -0.67809594],\n",
       "       [-0.59786457,  1.45576168, -0.86450205, -1.02883522],\n",
       "       [ 1.69769052, -0.43030192,  1.19383617,  0.90023082],\n",
       "       [ 1.08554249, -1.89724027,  1.12522489,  1.2509701 ],\n",
       "       [-0.75090157,  0.61751119, -0.86450205, -0.67809594],\n",
       "       [-0.44482756, -0.84942716,  0.71355725,  1.07560046],\n",
       "       [-1.66912361,  0.19838595, -1.07033587, -1.02883522],\n",
       "       [-0.90393858, -0.22073929, -1.0017246 , -1.02883522],\n",
       "       [ 0.16732046, -1.2685524 ,  0.71355725,  0.54949154],\n",
       "       [ 0.47339447, -0.84942716,  0.71355725,  0.72486118],\n",
       "       [ 1.3916165 ,  0.19838595,  1.12522489,  1.2509701 ],\n",
       "       [-1.3630496 ,  0.61751119, -1.0017246 , -0.85346558],\n",
       "       [ 0.93250549, -0.63986454,  1.26244744,  0.72486118],\n",
       "       [-1.3630496 ,  1.03663643, -1.27616969, -1.02883522],\n",
       "       [ 0.93250549, -0.63986454,  0.78216852,  0.90023082],\n",
       "       [ 0.77946848,  0.61751119,  1.12522489,  1.42633974],\n",
       "       [-1.21001259,  0.19838595, -1.07033587, -1.02883522],\n",
       "       [-0.75090157,  0.19838595, -1.13894715, -1.02883522],\n",
       "       [-0.13875355,  1.6653243 , -0.79589078, -0.67809594],\n",
       "       [-1.05697559,  0.61751119, -0.65866823, -1.02883522],\n",
       "       [ 1.2385795 , -1.68767764,  1.05661362,  0.90023082],\n",
       "       [-0.59786457,  0.40794857, -0.79589078, -0.5027263 ],\n",
       "       [-1.05697559, -0.22073929, -1.0017246 , -0.85346558],\n",
       "       [ 0.62643148, -0.22073929,  0.91939107,  1.2509701 ],\n",
       "       [-1.05697559, -0.22073929, -1.0017246 , -1.20420486],\n",
       "       [ 0.01428345, -1.47811502,  0.5763347 ,  0.3741219 ],\n",
       "       [ 0.01428345, -1.47811502,  0.64494597,  0.54949154],\n",
       "       [ 0.47339447, -0.84942716,  0.8507798 ,  0.3741219 ],\n",
       "       [-0.29179056,  1.24619906, -0.93311332, -1.02883522],\n",
       "       [-0.59786457,  0.61751119, -0.93311332, -1.02883522],\n",
       "       [-0.59786457,  0.82707381, -1.0017246 , -0.85346558],\n",
       "       [-0.44482756,  0.82707381, -0.93311332, -1.02883522],\n",
       "       [-0.13875355,  1.24619906, -0.93311332, -1.02883522],\n",
       "       [ 1.2385795 , -1.2685524 ,  1.39966999,  1.2509701 ],\n",
       "       [-0.59786457,  1.45576168, -0.93311332, -0.85346558],\n",
       "       [-0.75090157,  0.82707381, -1.07033587, -0.85346558],\n",
       "       [ 0.62643148,  0.19838595,  1.33105871,  1.77707902],\n",
       "       [ 0.47339447,  1.87488692, -1.13894715, -1.02883522],\n",
       "       [-0.90393858,  1.03663643, -1.0017246 , -1.20420486],\n",
       "       [ 0.16732046, -0.43030192,  0.50772343,  0.90023082],\n",
       "       [-1.05697559, -0.01117667, -0.86450205, -1.02883522]])"
      ]
     },
     "execution_count": 9,
     "metadata": {},
     "output_type": "execute_result"
    }
   ],
   "source": [
    "X_train_std"
   ]
  },
  {
   "cell_type": "code",
   "execution_count": 10,
   "metadata": {
    "scrolled": true
   },
   "outputs": [
    {
     "data": {
      "text/plain": [
       "tensor([[ 0.7795, -0.4303,  1.1252,  1.2510],\n",
       "        [-0.9039, -0.0112, -0.9331, -1.0288],\n",
       "        [-0.7509,  1.0366, -1.0017, -1.0288],\n",
       "        [-0.1388,  0.6175, -0.7959, -1.0288],\n",
       "        [ 0.3204, -1.0590,  0.4391,  0.3741],\n",
       "        [ 2.0038, -0.6399,  1.3311,  1.0756],\n",
       "        [ 1.8507, -0.0112,  1.2624,  1.2510],\n",
       "        [ 0.1673, -0.2207,  1.1252,  1.2510],\n",
       "        [ 1.0855, -0.4303,  0.9880,  0.9002],\n",
       "        [-0.7509,  0.6175, -0.9331, -1.0288],\n",
       "        [ 0.3204,  1.4558, -0.7959, -0.8535],\n",
       "        [ 1.6977, -0.2207,  1.0566,  1.0756],\n",
       "        [ 0.1673, -0.2207,  0.8508,  0.9002],\n",
       "        [-0.7509, -2.3164,  0.4391,  0.3741],\n",
       "        [-1.3630, -0.0112, -0.9331, -1.0288],\n",
       "        [ 0.7795, -0.8494,  1.5369,  1.4263],\n",
       "        [-0.7509,  0.8271, -0.8645, -0.3274],\n",
       "        [ 2.1568, -0.0112,  1.3997,  1.2510],\n",
       "        [ 0.0143,  2.2940, -1.0017, -1.0288],\n",
       "        [-0.4448,  2.0844, -0.9331, -1.2042],\n",
       "        [-1.6691, -0.2207, -1.0703, -1.0288],\n",
       "        [-1.0570,  0.6175, -0.8645, -1.0288],\n",
       "        [ 0.3204, -0.4303,  0.9194,  0.9002],\n",
       "        [ 0.0143, -1.6877,  0.7822,  0.9002],\n",
       "        [ 0.4734, -1.0590,  0.7822,  0.7249],\n",
       "        [-1.5161, -1.6877, -1.0703, -0.8535],\n",
       "        [ 2.3098,  0.1984,  1.2624,  1.0756],\n",
       "        [ 1.2386,  0.4079,  1.2624,  1.4263],\n",
       "        [ 0.0143, -1.2686,  0.7822,  0.9002],\n",
       "        [ 0.3204, -0.2207,  0.9194,  0.7249],\n",
       "        [-1.8222, -0.2207, -1.2076, -1.2042],\n",
       "        [ 1.8507, -0.2207,  1.4683,  1.6017],\n",
       "        [ 0.7795, -1.8972,  0.7822,  0.3741],\n",
       "        [-0.5979,  1.2462, -0.9331, -0.6781],\n",
       "        [-0.1388,  0.6175, -0.9331, -0.6781],\n",
       "        [-0.5979,  1.4558, -0.8645, -1.0288],\n",
       "        [ 1.6977, -0.4303,  1.1938,  0.9002],\n",
       "        [ 1.0855, -1.8972,  1.1252,  1.2510],\n",
       "        [-0.7509,  0.6175, -0.8645, -0.6781],\n",
       "        [-0.4448, -0.8494,  0.7136,  1.0756],\n",
       "        [-1.6691,  0.1984, -1.0703, -1.0288],\n",
       "        [-0.9039, -0.2207, -1.0017, -1.0288],\n",
       "        [ 0.1673, -1.2686,  0.7136,  0.5495],\n",
       "        [ 0.4734, -0.8494,  0.7136,  0.7249],\n",
       "        [ 1.3916,  0.1984,  1.1252,  1.2510],\n",
       "        [-1.3630,  0.6175, -1.0017, -0.8535],\n",
       "        [ 0.9325, -0.6399,  1.2624,  0.7249],\n",
       "        [-1.3630,  1.0366, -1.2762, -1.0288],\n",
       "        [ 0.9325, -0.6399,  0.7822,  0.9002],\n",
       "        [ 0.7795,  0.6175,  1.1252,  1.4263],\n",
       "        [-1.2100,  0.1984, -1.0703, -1.0288],\n",
       "        [-0.7509,  0.1984, -1.1389, -1.0288],\n",
       "        [-0.1388,  1.6653, -0.7959, -0.6781],\n",
       "        [-1.0570,  0.6175, -0.6587, -1.0288],\n",
       "        [ 1.2386, -1.6877,  1.0566,  0.9002],\n",
       "        [-0.5979,  0.4079, -0.7959, -0.5027],\n",
       "        [-1.0570, -0.2207, -1.0017, -0.8535],\n",
       "        [ 0.6264, -0.2207,  0.9194,  1.2510],\n",
       "        [-1.0570, -0.2207, -1.0017, -1.2042],\n",
       "        [ 0.0143, -1.4781,  0.5763,  0.3741],\n",
       "        [ 0.0143, -1.4781,  0.6449,  0.5495],\n",
       "        [ 0.4734, -0.8494,  0.8508,  0.3741],\n",
       "        [-0.2918,  1.2462, -0.9331, -1.0288],\n",
       "        [-0.5979,  0.6175, -0.9331, -1.0288],\n",
       "        [-0.5979,  0.8271, -1.0017, -0.8535],\n",
       "        [-0.4448,  0.8271, -0.9331, -1.0288],\n",
       "        [-0.1388,  1.2462, -0.9331, -1.0288],\n",
       "        [ 1.2386, -1.2686,  1.3997,  1.2510],\n",
       "        [-0.5979,  1.4558, -0.9331, -0.8535],\n",
       "        [-0.7509,  0.8271, -1.0703, -0.8535],\n",
       "        [ 0.6264,  0.1984,  1.3311,  1.7771],\n",
       "        [ 0.4734,  1.8749, -1.1389, -1.0288],\n",
       "        [-0.9039,  1.0366, -1.0017, -1.2042],\n",
       "        [ 0.1673, -0.4303,  0.5077,  0.9002],\n",
       "        [-1.0570, -0.0112, -0.8645, -1.0288]])"
      ]
     },
     "execution_count": 10,
     "metadata": {},
     "output_type": "execute_result"
    }
   ],
   "source": [
    "X_train"
   ]
  },
  {
   "cell_type": "markdown",
   "metadata": {},
   "source": [
    "Имплементация с использованием numpy\n",
    "\n",
    "https://www.thomascountz.com/2018/04/05/19-line-line-by-line-python-perceptron\n",
    "\n",
    "<img src=\"img/perceptron.png\">"
   ]
  },
  {
   "cell_type": "code",
   "execution_count": 11,
   "metadata": {},
   "outputs": [],
   "source": [
    "class Perceptron(torch.nn.Module):\n",
    "    def __init__(self):\n",
    "        super(Perceptron, self).__init__()\n",
    "        self.linear = nn.Linear(4, 2)\n",
    "\n",
    "    def forward(self, x):\n",
    "        output = torch.sigmoid(self.linear(x))\n",
    "        return output"
   ]
  },
  {
   "cell_type": "code",
   "execution_count": 12,
   "metadata": {},
   "outputs": [],
   "source": [
    "model = Perceptron()\n",
    "# Cross Entropy Loss - ф-я потерь\n",
    "criterion = nn.CrossEntropyLoss()\n",
    "# Stochastic Gradient Descent\n",
    "optimizer = torch.optim.SGD(model.parameters(), lr = 0.01)"
   ]
  },
  {
   "cell_type": "code",
   "execution_count": 13,
   "metadata": {},
   "outputs": [
    {
     "data": {
      "text/plain": [
       "Perceptron(\n",
       "  (linear): Linear(in_features=4, out_features=2, bias=True)\n",
       ")"
      ]
     },
     "execution_count": 13,
     "metadata": {},
     "output_type": "execute_result"
    }
   ],
   "source": [
    "model"
   ]
  },
  {
   "cell_type": "code",
   "execution_count": 14,
   "metadata": {},
   "outputs": [
    {
     "name": "stdout",
     "output_type": "stream",
     "text": [
      "Test loss before training 0.6852498054504395\n"
     ]
    }
   ],
   "source": [
    "y_pred = model(X_test)\n",
    "before_train = criterion(y_pred, y_test)\n",
    "print('Test loss before training' , before_train.item())"
   ]
  },
  {
   "cell_type": "code",
   "execution_count": 15,
   "metadata": {
    "scrolled": true
   },
   "outputs": [
    {
     "name": "stderr",
     "output_type": "stream",
     "text": [
      " 49%|████▉     | 490/999 [00:00<00:00, 1089.57it/s]"
     ]
    },
    {
     "name": "stdout",
     "output_type": "stream",
     "text": [
      "Epoch 101\n",
      "train loss: 0.6123418211936951 \n",
      " --------------------------------------------------\n",
      "Epoch 201\n",
      "train loss: 0.554364800453186 \n",
      " --------------------------------------------------\n",
      "Epoch 301\n",
      "train loss: 0.5114781856536865 \n",
      " --------------------------------------------------\n",
      "Epoch 401\n",
      "train loss: 0.47977057099342346 \n",
      " --------------------------------------------------\n",
      "Epoch 501\n",
      "train loss: 0.4559462070465088 \n",
      " --------------------------------------------------\n"
     ]
    },
    {
     "name": "stderr",
     "output_type": "stream",
     "text": [
      "100%|██████████| 999/999 [00:00<00:00, 1843.13it/s]"
     ]
    },
    {
     "name": "stdout",
     "output_type": "stream",
     "text": [
      "Epoch 601\n",
      "train loss: 0.437651664018631 \n",
      " --------------------------------------------------\n",
      "Epoch 701\n",
      "train loss: 0.4232879877090454 \n",
      " --------------------------------------------------\n",
      "Epoch 801\n",
      "train loss: 0.4117755889892578 \n",
      " --------------------------------------------------\n",
      "Epoch 901\n",
      "train loss: 0.40237686038017273 \n",
      " --------------------------------------------------\n"
     ]
    },
    {
     "name": "stderr",
     "output_type": "stream",
     "text": [
      "\n"
     ]
    }
   ],
   "source": [
    "import tqdm\n",
    "import numpy as np\n",
    "EPOCHS = 1000\n",
    "volume = []\n",
    "\n",
    "for epoch in tqdm.trange(1, EPOCHS):\n",
    "\n",
    "    y_pred = model(X_train)\n",
    "    loss = criterion(y_pred, y_train)\n",
    "    \n",
    "    if epoch%100==0:\n",
    "        print('Epoch {:}'.format(epoch + 1))\n",
    "        print('train loss: {}'.format(loss.item()), '\\n', '-'*50)\n",
    "\n",
    "    # вычисление градиентов\n",
    "    loss.backward()\n",
    "    # обновляем веса\n",
    "    optimizer.step()\n",
    "    \n",
    "    # устанавливаем градиенты равными нулю\n",
    "    # PyTorch накапливает градиенты при последующих обратных проходах\n",
    "    optimizer.zero_grad()\n",
    "    \n",
    "    with torch.no_grad():\n",
    "        y_pred = model(X_test)\n",
    "        loss_test = criterion(y_pred, y_test)\n",
    "        accuracy = (torch.argmax(y_pred, dim=1) == y_test).sum().item() / y_pred.shape[0]   \n",
    "        volume.append([epoch, loss.data.item(), loss_test.data.item(), accuracy])"
   ]
  },
  {
   "cell_type": "code",
   "execution_count": 16,
   "metadata": {
    "scrolled": false
   },
   "outputs": [
    {
     "name": "stdout",
     "output_type": "stream",
     "text": [
      "Last accuracy 1.000\n"
     ]
    },
    {
     "data": {
      "image/png": "[encoded data removed]",
      "text/plain": [
       "<Figure size 864x288 with 2 Axes>"
      ]
     },
     "metadata": {
      "needs_background": "light"
     },
     "output_type": "display_data"
    }
   ],
   "source": [
    "volume_ = pd.DataFrame(volume, columns=[\n",
    "    \"epoch\", \"train_loss\", \"test_loss\", \"accuracy\"]).set_index(\"epoch\")\n",
    "\n",
    "fig, (ax1, ax2) = plt.subplots(1, 2, figsize=(12, 4))\n",
    "\n",
    "print(\"Last accuracy %.3f\" % volume_.accuracy.iloc[-1])\n",
    "volume_[[\"train_loss\", \"test_loss\"]].plot(ax=ax1)\n",
    "volume_[[\"accuracy\"]].plot(ax=ax2);"
   ]
  },
  {
   "cell_type": "markdown",
   "metadata": {},
   "source": [
    "## ReLU"
   ]
  },
  {
   "cell_type": "code",
   "execution_count": 17,
   "metadata": {},
   "outputs": [],
   "source": [
    "class Perceptron_RL(torch.nn.Module):\n",
    "    def __init__(self):\n",
    "        super(Perceptron_RL, self).__init__()\n",
    "        self.linear = nn.Linear(4, 2)\n",
    "\n",
    "    def forward(self, x):\n",
    "        output = torch.relu(self.linear(x))\n",
    "        return output"
   ]
  },
  {
   "cell_type": "code",
   "execution_count": 18,
   "metadata": {},
   "outputs": [],
   "source": [
    "model = Perceptron_RL()\n",
    "# Cross Entropy Loss\n",
    "criterion = nn.CrossEntropyLoss()\n",
    "# Stochastic Gradient Descent\n",
    "optimizer = torch.optim.SGD(model.parameters(), lr = 0.01)"
   ]
  },
  {
   "cell_type": "code",
   "execution_count": 19,
   "metadata": {},
   "outputs": [
    {
     "data": {
      "text/plain": [
       "Perceptron_RL(\n",
       "  (linear): Linear(in_features=4, out_features=2, bias=True)\n",
       ")"
      ]
     },
     "execution_count": 19,
     "metadata": {},
     "output_type": "execute_result"
    }
   ],
   "source": [
    "model"
   ]
  },
  {
   "cell_type": "code",
   "execution_count": 20,
   "metadata": {},
   "outputs": [
    {
     "name": "stdout",
     "output_type": "stream",
     "text": [
      "Test loss before training 0.8413470387458801\n"
     ]
    }
   ],
   "source": [
    "y_pred = model(X_test)\n",
    "before_train = criterion(y_pred, y_test)\n",
    "print('Test loss before training' , before_train.item())"
   ]
  },
  {
   "cell_type": "code",
   "execution_count": 21,
   "metadata": {
    "scrolled": true
   },
   "outputs": [
    {
     "name": "stderr",
     "output_type": "stream",
     "text": [
      " 33%|███▎      | 330/999 [00:00<00:00, 1631.42it/s]"
     ]
    },
    {
     "name": "stdout",
     "output_type": "stream",
     "text": [
      "Epoch 101\n",
      "train loss: 0.43205952644348145 \n",
      " --------------------------------------------------\n",
      "Epoch 201\n",
      "train loss: 0.2544947862625122 \n",
      " --------------------------------------------------\n",
      "Epoch 301\n",
      "train loss: 0.18191081285476685 \n",
      " --------------------------------------------------\n",
      "Epoch 401\n",
      "train loss: 0.14140354096889496 \n",
      " --------------------------------------------------\n"
     ]
    },
    {
     "name": "stderr",
     "output_type": "stream",
     "text": [
      " 72%|███████▏  | 719/999 [00:00<00:00, 1780.96it/s]"
     ]
    },
    {
     "name": "stdout",
     "output_type": "stream",
     "text": [
      "Epoch 501\n",
      "train loss: 0.11547697335481644 \n",
      " --------------------------------------------------\n",
      "Epoch 601\n",
      "train loss: 0.09752600640058517 \n",
      " --------------------------------------------------\n",
      "Epoch 701\n",
      "train loss: 0.08438145369291306 \n",
      " --------------------------------------------------\n",
      "Epoch 801\n",
      "train loss: 0.07434849441051483 \n",
      " --------------------------------------------------\n",
      "Epoch 901\n",
      "train loss: 0.0664425790309906 \n",
      " --------------------------------------------------\n"
     ]
    },
    {
     "name": "stderr",
     "output_type": "stream",
     "text": [
      "100%|██████████| 999/999 [00:00<00:00, 1882.21it/s]\n"
     ]
    }
   ],
   "source": [
    "import tqdm\n",
    "import numpy as np\n",
    "EPOCHS = 1000\n",
    "volume = []\n",
    "\n",
    "for epoch in tqdm.trange(1, EPOCHS):\n",
    "\n",
    "    y_pred = model(X_train)\n",
    "    loss = criterion(y_pred, y_train)\n",
    "    \n",
    "    if epoch%100==0:\n",
    "        print('Epoch {:}'.format(epoch + 1))\n",
    "        print('train loss: {}'.format(loss.item()), '\\n', '-'*50)\n",
    "\n",
    "    # вычисление градиентов\n",
    "    loss.backward()\n",
    "    # обновляем веса\n",
    "    optimizer.step()\n",
    "    \n",
    "    # устанавливаем градиенты равными нулю\n",
    "    optimizer.zero_grad()\n",
    "    \n",
    "    with torch.no_grad():\n",
    "        y_pred = model(X_test)\n",
    "        loss_test = criterion(y_pred, y_test)\n",
    "        accuracy = (torch.argmax(y_pred, dim=1) == y_test).sum().item() / y_pred.shape[0]   \n",
    "        volume.append([epoch, loss.data.item(), loss_test.data.item(), accuracy])"
   ]
  },
  {
   "cell_type": "code",
   "execution_count": 22,
   "metadata": {
    "scrolled": false
   },
   "outputs": [
    {
     "name": "stdout",
     "output_type": "stream",
     "text": [
      "Last accuracy 1.000\n"
     ]
    },
    {
     "data": {
      "image/png": "[encoded data removed]",
      "text/plain": [
       "<Figure size 864x288 with 2 Axes>"
      ]
     },
     "metadata": {
      "needs_background": "light"
     },
     "output_type": "display_data"
    }
   ],
   "source": [
    "volume_ = pd.DataFrame(volume, columns=[\n",
    "                      \"epoch\", \"train_loss\", \"test_loss\", \"accuracy\"]).set_index(\"epoch\")\n",
    "\n",
    "fig, (ax1, ax2) = plt.subplots(1, 2, figsize=(12, 4))\n",
    "\n",
    "print(\"Last accuracy %.3f\" % volume_.accuracy.iloc[-1])\n",
    "volume_[[\"train_loss\", \"test_loss\"]].plot(ax=ax1)\n",
    "volume_[[\"accuracy\"]].plot(ax=ax2);"
   ]
  },
  {
   "cell_type": "markdown",
   "metadata": {},
   "source": [
    "## ROC-AUC"
   ]
  },
  {
   "cell_type": "code",
   "execution_count": 23,
   "metadata": {},
   "outputs": [
    {
     "data": {
      "image/png": "[encoded data removed]",
      "text/plain": [
       "<Figure size 432x288 with 1 Axes>"
      ]
     },
     "metadata": {
      "needs_background": "light"
     },
     "output_type": "display_data"
    }
   ],
   "source": [
    "from sklearn.metrics import roc_curve, auc\n",
    "from sklearn.preprocessing import OneHotEncoder\n",
    "\n",
    "#plt.figure(figsize=(6, 6))\n",
    "plt.plot([0, 1], [0, 1], 'k--', color='orange')\n",
    "\n",
    "with torch.no_grad():\n",
    "    y_pred = model(X_test).numpy()\n",
    "    fpr, tpr, threshold = roc_curve(y_test, y_pred[:, 1])\n",
    "\n",
    "plt.plot(fpr, tpr, label='AUC = {:.3f}'.format(auc(fpr, tpr)))\n",
    "plt.xlabel('False positive rate')\n",
    "plt.ylabel('True positive rate')\n",
    "plt.title('ROC curve')\n",
    "plt.legend();"
   ]
  },
  {
   "cell_type": "code",
   "execution_count": null,
   "metadata": {},
   "outputs": [],
   "source": []
  }
 ],
 "metadata": {
  "hide_input": false,
  "kernelspec": {
   "display_name": "Python 3",
   "language": "python",
   "name": "python3"
  },
  "language_info": {
   "codemirror_mode": {
    "name": "ipython",
    "version": 3
   },
   "file_extension": ".py",
   "mimetype": "text/x-python",
   "name": "python",
   "nbconvert_exporter": "python",
   "pygments_lexer": "ipython3",
   "version": "3.8.5"
  },
  "toc": {
   "base_numbering": 1,
   "nav_menu": {},
   "number_sections": true,
   "sideBar": true,
   "skip_h1_title": false,
   "title_cell": "Table of Contents",
   "title_sidebar": "Contents",
   "toc_cell": false,
   "toc_position": {},
   "toc_section_display": true,
   "toc_window_display": true
  }
 },
 "nbformat": 4,
 "nbformat_minor": 4
}
